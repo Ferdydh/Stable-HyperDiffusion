{
 "cells": [
  {
   "cell_type": "code",
   "execution_count": null,
   "metadata": {},
   "outputs": [
    {
     "name": "stdout",
     "output_type": "stream",
     "text": [
      "The autoreload extension is already loaded. To reload it, use:\n",
      "  %reload_ext autoreload\n"
     ]
    }
   ],
   "source": [
    "import torch\n",
    "import pytorch_lightning as pytorch_lightning\n",
    "import sys\n",
    "\n",
    "sys.path.append('./latent-diffusion')\n",
    "\n",
    "from irn_dataset import DataHandler\n",
    "%load_ext autoreload\n",
    "%autoreload 2"
   ]
  },
  {
   "cell_type": "code",
   "execution_count": 23,
   "metadata": {},
   "outputs": [
    {
     "data": {
      "text/plain": [
       "torch.Size([128, 1185])"
      ]
     },
     "execution_count": 23,
     "metadata": {},
     "output_type": "execute_result"
    }
   ],
   "source": [
    "device = torch.device('cuda:0' if torch.cuda.is_available() else 'cpu')\n",
    "hparams = {\n",
    "    'batch_size': 128,\n",
    "    'split_ratio': [80, 10, 10],\n",
    "    'num_workers': 1,\n",
    "    'device': device\n",
    "}\n",
    "datahandler = DataHandler(hparams, \"mnist-inrs\", \"cifar10_png_train_airplane_\")\n",
    "\n",
    "train_dataloader = datahandler.train_dataloader()\n",
    "next(iter(train_dataloader)).shape"
   ]
  }
 ],
 "metadata": {
  "kernelspec": {
   "display_name": "i2dl",
   "language": "python",
   "name": "python3"
  },
  "language_info": {
   "codemirror_mode": {
    "name": "ipython",
    "version": 3
   },
   "file_extension": ".py",
   "mimetype": "text/x-python",
   "name": "python",
   "nbconvert_exporter": "python",
   "pygments_lexer": "ipython3",
   "version": "3.11.8"
  }
 },
 "nbformat": 4,
 "nbformat_minor": 2
}
