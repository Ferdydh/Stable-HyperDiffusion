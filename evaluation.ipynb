{
 "cells": [
  {
   "cell_type": "markdown",
   "metadata": {},
   "source": [
    "# Compare models"
   ]
  },
  {
   "cell_type": "code",
   "execution_count": null,
   "metadata": {},
   "outputs": [],
   "source": [
    "import os\n",
    "import random\n",
    "import torch\n",
    "import numpy as np\n",
    "print(torch.cuda.is_available())\n",
    "\n",
    "from src.data.data_converter import tokens_to_weights, weights_to_flattened_weights, flattened_weights_to_weights\n",
    "from src.data.inr_dataset import INRDataset\n",
    "from src.data.utils import get_files_from_selectors\n",
    "from src.data.inr import INR\n",
    "\n",
    "from src.core.config import TransformerExperimentConfig, DataConfig, DataSelector, DatasetType\n",
    "from src.core.config_diffusion import DiffusionExperimentConfig\n",
    "\n",
    "from src.models.diffusion.pl_diffusion import HyperDiffusion\n",
    "from src.models.autoencoder.pl_transformer import Autoencoder\n",
    "\n",
    "from src.evaluation import model_utils, visualization_utils, metrics\n",
    "\n",
    "\n",
    "%load_ext autoreload\n",
    "%autoreload 2"
   ]
  },
  {
   "cell_type": "code",
   "execution_count": null,
   "metadata": {},
   "outputs": [],
   "source": [
    "device = torch.device('cuda' if torch.cuda.is_available() else 'cpu')\n",
    "device"
   ]
  },
  {
   "cell_type": "markdown",
   "metadata": {},
   "source": [
    "### 1. Create Hyperdiffusion model"
   ]
  },
  {
   "cell_type": "code",
   "execution_count": null,
   "metadata": {},
   "outputs": [],
   "source": [
    "config: DiffusionExperimentConfig = DiffusionExperimentConfig.sanity()\n",
    "\n",
    "config.transformer_config.n_embd = 1024\n",
    "config.transformer_config.n_head = 8\n",
    "config.transformer_config.n_layer = 8\n",
    "config.data = DataConfig.small()\n",
    "config.data.selector = DataSelector(dataset_type=DatasetType.MNIST, class_label=2)\n",
    "\n",
    "mlp = INR(up_scale=16)\n",
    "mlp.eval()\n",
    "\n",
    "data_path = os.path.join(os.getcwd(), config.data.data_path)\n",
    "files = get_files_from_selectors(data_path, [config.data.selector])\n",
    "dataset_flattened = INRDataset(files, \"cpu\", is_flattened=True)\n",
    "\n",
    "ref_cp = dataset_flattened.get_state_dict(0)\n",
    "\n",
    "data_shape = dataset_flattened[0].unsqueeze(0).shape\n",
    "# Initialize model\n",
    "hyperdiffusion = HyperDiffusion(\n",
    "    config, data_shape\n",
    ")\n",
    "hyperdiffusion.eval()\n",
    "\n",
    "#checkpoint = \"good_checkpoints/ferdy/hyperdiffusion/standard_hyperdiffusion.ckpt\"\n",
    "checkpoint = \"good_checkpoints/ferdy/hyperdiffusion/hyperdiffusion_20250126_132035.ckpt\"\n",
    "state_dict = torch.load(checkpoint, map_location=torch.device('cpu'))[\"state_dict\"]\n",
    "hyperdiffusion.load_state_dict(state_dict)\n",
    "print(\"Dataset size:\", len(dataset_flattened))"
   ]
  },
  {
   "cell_type": "markdown",
   "metadata": {},
   "source": [
    "### 2. Create VAE"
   ]
  },
  {
   "cell_type": "code",
   "execution_count": 53,
   "metadata": {},
   "outputs": [
    {
     "data": {
      "text/plain": [
       "50473170"
      ]
     },
     "execution_count": 53,
     "metadata": {},
     "output_type": "execute_result"
    }
   ],
   "source": [
    "config_ae: TransformerExperimentConfig = TransformerExperimentConfig.default()\n",
    "config_ae.model.num_heads = 8\n",
    "config_ae.model.num_layers = 8\n",
    "config_ae.model.d_model = 512  # 256 -> 4\n",
    "config_ae.model.latent_dim = 8\n",
    "config_ae.model.layer_norm = False\n",
    "config_ae.model.use_mask = True\n",
    "\n",
    "autoencoder_checkpoint = \"good_checkpoints/best_overfit_so_far_099_split.ckpt\"\n",
    "#autoencoder_checkpoint = \"good_checkpoints/overfit.ckpt\"\n",
    "# Initialize model\n",
    "vae = Autoencoder(config_ae)\n",
    "vae.eval()\n",
    "state_dict = torch.load(autoencoder_checkpoint, map_location=torch.device('cpu'))\n",
    "vae.load_state_dict(state_dict[\"state_dict\"])\n",
    "sum(p.numel() for p in vae.parameters())"
   ]
  },
  {
   "cell_type": "markdown",
   "metadata": {},
   "source": [
    "### 3. Create Stable Hyperdiffusion Model"
   ]
  },
  {
   "cell_type": "code",
   "execution_count": null,
   "metadata": {},
   "outputs": [],
   "source": [
    "config_shyp: DiffusionExperimentConfig = DiffusionExperimentConfig.sanity()\n",
    "config_shyp.transformer_config.n_embd = 512\n",
    "config_shyp.transformer_config.n_head = 8\n",
    "config_shyp.transformer_config.n_layer = 8\n",
    "\n",
    "dataset_tokenized = INRDataset(files, \"cpu\", is_flattened=False)\n",
    "\n",
    "data_shape = (config.data.batch_size, config_ae.model.n_tokens * config_ae.model.latent_dim)\n",
    "_,_,positions = dataset_tokenized[0]\n",
    "\n",
    "# Initialize model\n",
    "stable_hyperdiffusion = HyperDiffusion(\n",
    "    config_shyp, data_shape, vae, positions\n",
    ")\n",
    "\n",
    "diffusion_checkpoint = \"diffusion_logs/lightning_checkpoints/stable_hyperdiffusion_whole_dataset_2025-01-24 16-17-16.651982-hyperdiffusion_num2 20250124_161713-z8ljsssp/last.ckpt\"\n",
    "state_dict = torch.load(diffusion_checkpoint, map_location=torch.device('cpu'))\n",
    "stable_hyperdiffusion.load_state_dict(state_dict[\"state_dict\"])\n",
    "stable_hyperdiffusion.eval()\n",
    "print(\"\")"
   ]
  },
  {
   "cell_type": "markdown",
   "metadata": {},
   "source": [
    "### 4. Visualize the results"
   ]
  },
  {
   "cell_type": "code",
   "execution_count": null,
   "metadata": {},
   "outputs": [],
   "source": [
    "n_samples = 100\n",
    "mlp = mlp.to(device)\n",
    "hyperdiffusion = hyperdiffusion.to(device)"
   ]
  },
  {
   "cell_type": "code",
   "execution_count": null,
   "metadata": {},
   "outputs": [],
   "source": [
    "path = \"evaluation/hyperdiffusion\"\n",
    "os.makedirs(path, exist_ok=True)\n",
    "for i in range(100):\n",
    "    hyperdiffusion_images = model_utils.generate_diffusion_images(hyperdiffusion, mlp, n_samples, ref_cp=ref_cp)\n",
    "    hyperdiffusion_images_numpy = np.array(hyperdiffusion_images)\n",
    "    print(hyperdiffusion_images_numpy.shape)\n",
    "    np.save(os.path.join(path, f\"hyperdiffusion_images{i}.npy\"), hyperdiffusion_images_numpy)"
   ]
  },
  {
   "cell_type": "code",
   "execution_count": null,
   "metadata": {},
   "outputs": [],
   "source": []
  },
  {
   "cell_type": "code",
   "execution_count": null,
   "metadata": {},
   "outputs": [],
   "source": []
  },
  {
   "cell_type": "code",
   "execution_count": null,
   "metadata": {},
   "outputs": [],
   "source": []
  },
  {
   "cell_type": "code",
   "execution_count": null,
   "metadata": {},
   "outputs": [],
   "source": []
  },
  {
   "cell_type": "code",
   "execution_count": null,
   "metadata": {},
   "outputs": [],
   "source": []
  },
  {
   "cell_type": "code",
   "execution_count": 43,
   "metadata": {},
   "outputs": [],
   "source": [
    "path = \"evaluation/hyperdiffusion\"\n",
    "file_paths = [os.path.join(root, file) for root, _, files in os.walk(path) for file in files]\n",
    "combined = []\n",
    "for file_path in file_paths:\n",
    "    array = np.load(file_path)\n",
    "    combined.extend(array)\n",
    "hyperdiffusion_images = combined"
   ]
  },
  {
   "cell_type": "code",
   "execution_count": 9,
   "metadata": {},
   "outputs": [
    {
     "name": "stdout",
     "output_type": "stream",
     "text": [
      "torch.Size([6990, 784])\n"
     ]
    },
    {
     "name": "stderr",
     "output_type": "stream",
     "text": [
      "C:\\Users\\simon\\AppData\\Local\\Temp\\ipykernel_5152\\1816167257.py:2: UserWarning: Creating a tensor from a list of numpy.ndarrays is extremely slow. Please consider converting the list to a single numpy.ndarray with numpy.array() before converting to a tensor. (Triggered internally at C:\\b\\abs_fakvb73nko\\croot\\pytorch-select_1730848725921\\work\\torch\\csrc\\utils\\tensor_new.cpp:277.)\n",
      "  dataset_images_array = torch.Tensor(dataset_images)\n"
     ]
    }
   ],
   "source": [
    "dataset_images = [model_utils.compute_image(mlp, flattened_weights_to_weights(dataset_flattened[i], mlp)) for i in range(len(dataset_flattened))]\n",
    "dataset_images_array = torch.Tensor(dataset_images)\n",
    "dataset_images_array = dataset_images_array.view(dataset_images_array.size(0), -1)\n",
    "print(dataset_images_array.shape)"
   ]
  },
  {
   "cell_type": "code",
   "execution_count": 10,
   "metadata": {},
   "outputs": [
    {
     "name": "stdout",
     "output_type": "stream",
     "text": [
      "torch.Size([1700, 784])\n"
     ]
    }
   ],
   "source": [
    "hyperdiffusion_images_array =  torch.Tensor(hyperdiffusion_images)\n",
    "hyperdiffusion_images_array = hyperdiffusion_images_array.view(hyperdiffusion_images_array.size(0), -1)\n",
    "print(hyperdiffusion_images_array.shape)"
   ]
  },
  {
   "cell_type": "code",
   "execution_count": 16,
   "metadata": {},
   "outputs": [
    {
     "name": "stdout",
     "output_type": "stream",
     "text": [
      "tensor([[0.5655],\n",
      "        [0.1958],\n",
      "        [0.5099],\n",
      "        ...,\n",
      "        [0.3820],\n",
      "        [0.5619],\n",
      "        [0.2489]])\n"
     ]
    }
   ],
   "source": [
    "indices, distances = metrics.find_nearest_neighbor(hyperdiffusion_images_array, dataset_images_array)"
   ]
  },
  {
   "cell_type": "code",
   "execution_count": 38,
   "metadata": {},
   "outputs": [],
   "source": [
    "distances = distances.view(-1)\n",
    "idx = np.argsort(distances)[200:300]"
   ]
  },
  {
   "cell_type": "code",
   "execution_count": null,
   "metadata": {},
   "outputs": [],
   "source": [
    "for i in range(len(idx) // 6):\n",
    "    pos = i*6 \n",
    "    print(f\"    {idx[pos]}                       {idx[pos+1]}                       {idx[pos+2]}                       {idx[pos+3]}                       {idx[pos+4]}                       {idx[pos+5]}\")\n",
    "    images = [hyperdiffusion_images[j] for j in idx[i*6:i*6+6]]\n",
    "    visualization_utils.plot_n_images(images, row=True)"
   ]
  },
  {
   "cell_type": "code",
   "execution_count": 42,
   "metadata": {},
   "outputs": [],
   "source": [
    "stable_hyperdiffusion_images = model_utils.generate_diffusion_images(stable_hyperdiffusion, mlp, 5, ref_cp=ref_cp)"
   ]
  },
  {
   "cell_type": "code",
   "execution_count": 50,
   "metadata": {},
   "outputs": [
    {
     "name": "stdout",
     "output_type": "stream",
     "text": [
      "15\n"
     ]
    }
   ],
   "source": [
    "images = dataset_images[:5]\n",
    "images.extend(stable_hyperdiffusion_images)\n",
    "images.append(hyperdiffusion_images[1407])\n",
    "images.append(hyperdiffusion_images[934])\n",
    "images.append(hyperdiffusion_images[1143])\n",
    "images.append(hyperdiffusion_images[500])\n",
    "images.append(hyperdiffusion_images[946])\n",
    "print(len(images))"
   ]
  },
  {
   "cell_type": "code",
   "execution_count": 52,
   "metadata": {},
   "outputs": [
    {
     "name": "stdout",
     "output_type": "stream",
     "text": [
      "Number of samples: 15\n"
     ]
    },
    {
     "data": {
      "image/png": "[encoded data removed]",
      "text/plain": [
       "<Figure size 1500x900 with 15 Axes>"
      ]
     },
     "metadata": {},
     "output_type": "display_data"
    }
   ],
   "source": [
    "visualization_utils.plot_n_images(images, rows=3, cols=5)"
   ]
  },
  {
   "cell_type": "code",
   "execution_count": null,
   "metadata": {},
   "outputs": [],
   "source": []
  },
  {
   "cell_type": "markdown",
   "metadata": {},
   "source": [
    "### 5. Calculate metrics"
   ]
  },
  {
   "cell_type": "markdown",
   "metadata": {},
   "source": [
    "#### 5.1 Image comparison"
   ]
  },
  {
   "cell_type": "code",
   "execution_count": 71,
   "metadata": {},
   "outputs": [],
   "source": [
    "num_samples = 200\n",
    "hyperdiffusion_results = hyperdiffusion.generate_samples(num_samples)\n",
    "stable_hyperdiffusion_latent_outputs, stable_hyperdiffusion_results, stable_hyperdiffusion_positions = stable_hyperdiffusion.generate_samples(num_samples)"
   ]
  },
  {
   "cell_type": "code",
   "execution_count": null,
   "metadata": {},
   "outputs": [],
   "source": [
    "print(hyperdiffusion_results.shape)\n",
    "print(stable_hyperdiffusion_results.shape)\n",
    "print(stable_hyperdiffusion_latent_outputs.shape)"
   ]
  },
  {
   "cell_type": "code",
   "execution_count": null,
   "metadata": {},
   "outputs": [],
   "source": [
    "# Get n random samples from dataset\n",
    "indices = random.sample(range(len(dataset_flattened)), num_samples)\n",
    "dataset_samples = [dataset_flattened[i] for i in indices]\n",
    "dataset_samples = torch.stack(dataset_samples)\n",
    "print(dataset_samples.shape)"
   ]
  },
  {
   "cell_type": "code",
   "execution_count": null,
   "metadata": {},
   "outputs": [],
   "source": [
    "stable_hyperdiffusion_results_flattened = [weights_to_flattened_weights(tokens_to_weights(t, p, ref_cp)) for t, p in zip(stable_hyperdiffusion_results, stable_hyperdiffusion_positions)]\n",
    "stable_hyperdiffusion_results_flattened = torch.stack(stable_hyperdiffusion_results_flattened)\n",
    "print(stable_hyperdiffusion_results_flattened.shape)"
   ]
  },
  {
   "cell_type": "code",
   "execution_count": 83,
   "metadata": {},
   "outputs": [],
   "source": [
    "# Generate images and stack to tensor\n",
    "hyperdiffusion_images = [torch.from_numpy(model_utils.compute_image(mlp, flattened_weights_to_weights(s, mlp))) for s in hyperdiffusion_results]\n",
    "hyperdiffusion_images = torch.stack(hyperdiffusion_images)\n",
    "stable_hyperdiffusion_images = [torch.from_numpy(model_utils.compute_image(mlp, flattened_weights_to_weights(s, mlp))) for s in stable_hyperdiffusion_results_flattened]\n",
    "stable_hyperdiffusion_images = torch.stack(stable_hyperdiffusion_images)\n",
    "dataset_images = [torch.from_numpy(model_utils.compute_image(mlp, flattened_weights_to_weights(s, mlp))) for s in dataset_samples]\n",
    "dataset_images = torch.stack(dataset_images)"
   ]
  },
  {
   "cell_type": "markdown",
   "metadata": {},
   "source": [
    "##### Calculate FID scores:"
   ]
  },
  {
   "cell_type": "code",
   "execution_count": null,
   "metadata": {},
   "outputs": [],
   "source": [
    "fid_hyperdiffusion = metrics.calculate_fid(dataset_images, hyperdiffusion_images)\n",
    "fid_stable_hyperdiffusion = metrics.calculate_fid(dataset_images, stable_hyperdiffusion_images)\n",
    "print(f\"FID Hyperdiffusion: {fid_hyperdiffusion}\")\n",
    "print(f\"FID Stable Hyperdiffusion: {fid_stable_hyperdiffusion}\")"
   ]
  },
  {
   "cell_type": "markdown",
   "metadata": {},
   "source": [
    "##### Calculate MSE scores:"
   ]
  },
  {
   "cell_type": "code",
   "execution_count": null,
   "metadata": {},
   "outputs": [],
   "source": [
    "mse_hyperdiffusion = metrics.calculate_mse(dataset_images, hyperdiffusion_images)\n",
    "mse_stable_hyperdiffusion = metrics.calculate_mse(dataset_images, stable_hyperdiffusion_images)\n",
    "print(f\"MSE Hyperdiffusion: {mse_hyperdiffusion}\")\n",
    "print(f\"MSE Stable Hyperdiffusion: {mse_stable_hyperdiffusion}\")"
   ]
  },
  {
   "cell_type": "markdown",
   "metadata": {},
   "source": [
    "##### Calculate the Minimum Matching Distance"
   ]
  },
  {
   "cell_type": "code",
   "execution_count": null,
   "metadata": {},
   "outputs": [],
   "source": [
    "mmd_hyperdiffusion = metrics.compute_mmd(dataset_images.reshape(dataset_images.shape[0], -1), hyperdiffusion_images.reshape(hyperdiffusion_images.shape[0], -1))\n",
    "mmd_stable_hyperdiffusion = metrics.compute_mmd(dataset_images.reshape(dataset_images.shape[0], -1), stable_hyperdiffusion_images.reshape(stable_hyperdiffusion_images.shape[0], -1))\n",
    "print(f\"Minimum Matching Distance Hyperdiffusion: {mmd_hyperdiffusion}\")\n",
    "print(f\"Minimum Matching Distance Stable Hyperdiffusion: {mmd_stable_hyperdiffusion}\")"
   ]
  },
  {
   "cell_type": "markdown",
   "metadata": {},
   "source": [
    "##### Calculate the coverage"
   ]
  },
  {
   "cell_type": "code",
   "execution_count": null,
   "metadata": {},
   "outputs": [],
   "source": [
    "coverage_hyperdiffusion = metrics.compute_coverage(dataset_images.reshape(dataset_images.shape[0], -1), hyperdiffusion_images.reshape(hyperdiffusion_images.shape[0], -1))\n",
    "coverage_stable_hyperdiffusion = metrics.compute_coverage(dataset_images.reshape(dataset_images.shape[0], -1), stable_hyperdiffusion_images.reshape(stable_hyperdiffusion_images.shape[0], -1))\n",
    "print(f\"Coverage Hyperdiffusion: {coverage_hyperdiffusion}\")\n",
    "print(f\"Coverage Stable Hyperdiffusion: {coverage_stable_hyperdiffusion}\")"
   ]
  },
  {
   "cell_type": "markdown",
   "metadata": {},
   "source": [
    "##### Calculate the 1-Nearest-Neighbor Accuracy"
   ]
  },
  {
   "cell_type": "code",
   "execution_count": null,
   "metadata": {},
   "outputs": [],
   "source": [
    "nna_hyperdiffusion = metrics.compute_1nna(dataset_images.reshape(dataset_images.shape[0], -1), hyperdiffusion_images.reshape(hyperdiffusion_images.shape[0], -1))\n",
    "nna_stable_hyperdiffusion = metrics.compute_1nna(dataset_images.reshape(dataset_images.shape[0], -1), stable_hyperdiffusion_images.reshape(stable_hyperdiffusion_images.shape[0], -1))\n",
    "print(f\"1-Nearest-Neighbor Accuracy Hyperdiffusion: {nna_hyperdiffusion}\")\n",
    "print(f\"1-Nearest-Neighbor Accuracy Stable Hyperdiffusion: {nna_stable_hyperdiffusion}\")"
   ]
  },
  {
   "cell_type": "markdown",
   "metadata": {},
   "source": [
    "##### Calculate the novelty"
   ]
  },
  {
   "cell_type": "code",
   "execution_count": null,
   "metadata": {},
   "outputs": [],
   "source": [
    "# NOTE: maybe we should use the whole training dataset here\n",
    "novelty_hyperdiffusion = metrics.detect_novelty(dataset_images.reshape(dataset_images.shape[0], -1), hyperdiffusion_images.reshape(hyperdiffusion_images.shape[0], -1))\n",
    "novelty_stable_hyperdiffusion = metrics.detect_novelty(dataset_images.reshape(dataset_images.shape[0], -1), stable_hyperdiffusion_images.reshape(stable_hyperdiffusion_images.shape[0], -1))\n",
    "print(f\"Novelty Hyperdiffusion: {novelty_hyperdiffusion[0].sum()} of {len(novelty_hyperdiffusion[0])}\")\n",
    "print(f\"Novelty Stable Hyperdiffusion: {novelty_stable_hyperdiffusion[0].sum()} of {len(novelty_stable_hyperdiffusion[0])}\")"
   ]
  },
  {
   "cell_type": "code",
   "execution_count": null,
   "metadata": {},
   "outputs": [],
   "source": [
    "novelty_hyperdiffusion = metrics.novelty_svm(dataset_images.reshape(dataset_images.shape[0], -1), hyperdiffusion_images.reshape(hyperdiffusion_images.shape[0], -1))\n",
    "novelty_stable_hyperdiffusion = metrics.novelty_svm(dataset_images.reshape(dataset_images.shape[0], -1), stable_hyperdiffusion_images.reshape(stable_hyperdiffusion_images.shape[0], -1))\n",
    "print(f\"Novelty Hyperdiffusion: {novelty_hyperdiffusion}\")\n",
    "print(f\"Novelty Stable Hyperdiffusion: {novelty_stable_hyperdiffusion}\")"
   ]
  },
  {
   "cell_type": "markdown",
   "metadata": {},
   "source": [
    "#### 5.2 Weights comparison"
   ]
  },
  {
   "cell_type": "code",
   "execution_count": 106,
   "metadata": {},
   "outputs": [],
   "source": [
    "#TODO:"
   ]
  },
  {
   "cell_type": "markdown",
   "metadata": {},
   "source": [
    "### 6. VAE Latent Space"
   ]
  },
  {
   "cell_type": "markdown",
   "metadata": {},
   "source": [
    "#### Sample from latent space"
   ]
  },
  {
   "cell_type": "code",
   "execution_count": null,
   "metadata": {},
   "outputs": [],
   "source": [
    "num_samples = 50\n",
    "latent_images = model_utils.sample_from_latent_space(\n",
    "    vae, mlp, ref_cp, dataset_tokenized[0][2], config_ae.model.n_tokens, config_ae.model.latent_dim, n_samples\n",
    ")\n",
    "visualization_utils.plot_n_images(latent_images)"
   ]
  },
  {
   "cell_type": "markdown",
   "metadata": {},
   "source": [
    "##### Interpolate latent space"
   ]
  },
  {
   "cell_type": "code",
   "execution_count": null,
   "metadata": {},
   "outputs": [],
   "source": [
    "num_interpolation_steps = 10\n",
    "\n",
    "num_interpolations = 100\n",
    "\n",
    "for i in range(num_interpolations):\n",
    "    idx = random.randint(0, len(dataset_tokenized) - 1)\n",
    "    idy = random.randint(0, len(dataset_tokenized) - 1)\n",
    "    latent_vectors = [dataset_tokenized[idx][0], dataset_tokenized[idy][0]]\n",
    "    latent_positions = [dataset_tokenized[idx][2], dataset_tokenized[idy][2]]\n",
    "    latent_vectors = torch.stack(latent_vectors)\n",
    "    latent_positions = torch.stack(latent_positions)\n",
    "\n",
    "    vae.eval()\n",
    "    with torch.no_grad():\n",
    "        latent_vector, _, _ = vae.encoder(latent_vectors, latent_positions)\n",
    "\n",
    "    latent_images = model_utils.interpolate_latent_space(\n",
    "        latent_vector[0], latent_vector[1], num_interpolation_steps, dataset_tokenized[0][2], vae, ref_cp, mlp\n",
    "    )\n",
    "    print(\"Indices:\", idx, idy)\n",
    "    visualization_utils.plot_n_images(latent_images, row=True)"
   ]
  },
  {
   "cell_type": "code",
   "execution_count": 47,
   "metadata": {},
   "outputs": [],
   "source": [
    "images, recons, mse_weights, mse_images = model_utils.get_n_images_and_mses(vae, dataset_tokenized, mlp, len(dataset_tokenized), device=device, random=False)"
   ]
  },
  {
   "cell_type": "code",
   "execution_count": 48,
   "metadata": {},
   "outputs": [],
   "source": [
    "best_mse_weight_indices = model_utils.get_best_samples(mse_weights, best_n=10)\n",
    "best_mse_image_indices = model_utils.get_best_samples(mse_images, best_n=10)"
   ]
  },
  {
   "cell_type": "code",
   "execution_count": null,
   "metadata": {},
   "outputs": [],
   "source": [
    "for i in best_mse_image_indices:\n",
    "    for j in best_mse_image_indices:\n",
    "        latent_vectors = [dataset_tokenized[i][0], dataset_tokenized[j][0]]\n",
    "        latent_positions = [dataset_tokenized[i][2], dataset_tokenized[j][2]]\n",
    "        latent_vectors = torch.stack(latent_vectors)\n",
    "        latent_positions = torch.stack(latent_positions)\n",
    "\n",
    "        vae.eval()\n",
    "        with torch.no_grad():\n",
    "            latent_vector, _, _ = vae.encoder(latent_vectors, latent_positions)\n",
    "\n",
    "        latent_images = model_utils.interpolate_latent_space(\n",
    "            latent_vector[0], latent_vector[1], num_interpolation_steps, dataset_tokenized[0][2], vae, ref_cp, mlp\n",
    "        )\n",
    "        visualization_utils.plot_n_images(latent_images, row=True)"
   ]
  },
  {
   "cell_type": "markdown",
   "metadata": {},
   "source": [
    "### 7. Get nearest neighbors"
   ]
  },
  {
   "cell_type": "code",
   "execution_count": 123,
   "metadata": {},
   "outputs": [],
   "source": [
    "num_samples = 30\n",
    "k = 2\n",
    "dataset_images, hyperdiffusion_images, mse_images, mse_weights, distances = model_utils.generate_nearest_neighbors(hyperdiffusion, \n",
    "                                                                                                                  inr=mlp,\n",
    "                                                                                                                  dataset=dataset_flattened,\n",
    "                                                                                                                  num_samples=30,\n",
    "                                                                                                                  k=k)"
   ]
  },
  {
   "cell_type": "code",
   "execution_count": null,
   "metadata": {},
   "outputs": [],
   "source": [
    "visualization_utils.plot_diffusion_knn(\n",
    "    hyperdiffusion_images,\n",
    "    dataset_images,\n",
    "    mse_images,\n",
    "    mse_weights,\n",
    "    k=k,\n",
    "    num_samples=num_samples\n",
    ")"
   ]
  },
  {
   "cell_type": "code",
   "execution_count": 125,
   "metadata": {},
   "outputs": [],
   "source": [
    "dataset_images, stable_hyperdifusion_images, mse_images, mse_weights, distances = model_utils.generate_nearest_neighbors(stable_hyperdiffusion, \n",
    "                                                                                                                  inr=mlp,\n",
    "                                                                                                                  dataset=dataset_tokenized,\n",
    "                                                                                                                  num_samples=30,\n",
    "                                                                                                                  k=k)"
   ]
  },
  {
   "cell_type": "code",
   "execution_count": null,
   "metadata": {},
   "outputs": [],
   "source": [
    "visualization_utils.plot_diffusion_knn(\n",
    "    stable_hyperdifusion_images,\n",
    "    dataset_images,\n",
    "    mse_images,\n",
    "    mse_weights,\n",
    "    k=k,\n",
    "    num_samples=num_samples\n",
    ")"
   ]
  }
 ],
 "metadata": {
  "kernelspec": {
   "display_name": "acv",
   "language": "python",
   "name": "python3"
  },
  "language_info": {
   "codemirror_mode": {
    "name": "ipython",
    "version": 3
   },
   "file_extension": ".py",
   "mimetype": "text/x-python",
   "name": "python",
   "nbconvert_exporter": "python",
   "pygments_lexer": "ipython3",
   "version": "3.12.7"
  }
 },
 "nbformat": 4,
 "nbformat_minor": 2
}
